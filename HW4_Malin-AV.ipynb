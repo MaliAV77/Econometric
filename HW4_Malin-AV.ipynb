{
 "cells": [
  {
   "cell_type": "markdown",
   "metadata": {},
   "source": [
    "# Домашнее задание 4"
   ]
  },
  {
   "cell_type": "code",
   "execution_count": 1,
   "metadata": {},
   "outputs": [],
   "source": [
    "import numpy as np\n",
    "import pandas as pd\n",
    "import sklearn.linear_model as slmodel\n",
    "import matplotlib.pyplot as plt\n",
    "import statsmodels.api as sm\n",
    "from scipy.stats import f\n",
    "from scipy import stats"
   ]
  },
  {
   "cell_type": "code",
   "execution_count": 2,
   "metadata": {
    "scrolled": false
   },
   "outputs": [
    {
     "data": {
      "text/html": [
       "<div>\n",
       "<style scoped>\n",
       "    .dataframe tbody tr th:only-of-type {\n",
       "        vertical-align: middle;\n",
       "    }\n",
       "\n",
       "    .dataframe tbody tr th {\n",
       "        vertical-align: top;\n",
       "    }\n",
       "\n",
       "    .dataframe thead th {\n",
       "        text-align: right;\n",
       "    }\n",
       "</style>\n",
       "<table border=\"1\" class=\"dataframe\">\n",
       "  <thead>\n",
       "    <tr style=\"text-align: right;\">\n",
       "      <th></th>\n",
       "      <th>Место</th>\n",
       "      <th>Клуб</th>\n",
       "      <th>Матчи</th>\n",
       "      <th>Победы</th>\n",
       "      <th>Ничьи</th>\n",
       "      <th>Поражения</th>\n",
       "      <th>Забито</th>\n",
       "      <th>Пропущено</th>\n",
       "      <th>Разница</th>\n",
       "      <th>Очки</th>\n",
       "    </tr>\n",
       "  </thead>\n",
       "  <tbody>\n",
       "    <tr>\n",
       "      <th>0</th>\n",
       "      <td>1</td>\n",
       "      <td>Спартак</td>\n",
       "      <td>30</td>\n",
       "      <td>16</td>\n",
       "      <td>10</td>\n",
       "      <td>4</td>\n",
       "      <td>51</td>\n",
       "      <td>30</td>\n",
       "      <td>21</td>\n",
       "      <td>58</td>\n",
       "    </tr>\n",
       "    <tr>\n",
       "      <th>1</th>\n",
       "      <td>2</td>\n",
       "      <td>Локомотив</td>\n",
       "      <td>30</td>\n",
       "      <td>16</td>\n",
       "      <td>9</td>\n",
       "      <td>5</td>\n",
       "      <td>53</td>\n",
       "      <td>22</td>\n",
       "      <td>31</td>\n",
       "      <td>57</td>\n",
       "    </tr>\n",
       "    <tr>\n",
       "      <th>2</th>\n",
       "      <td>3</td>\n",
       "      <td>Зенит</td>\n",
       "      <td>30</td>\n",
       "      <td>15</td>\n",
       "      <td>9</td>\n",
       "      <td>6</td>\n",
       "      <td>50</td>\n",
       "      <td>34</td>\n",
       "      <td>16</td>\n",
       "      <td>54</td>\n",
       "    </tr>\n",
       "    <tr>\n",
       "      <th>3</th>\n",
       "      <td>4</td>\n",
       "      <td>Торпедо</td>\n",
       "      <td>30</td>\n",
       "      <td>15</td>\n",
       "      <td>7</td>\n",
       "      <td>8</td>\n",
       "      <td>51</td>\n",
       "      <td>40</td>\n",
       "      <td>11</td>\n",
       "      <td>52</td>\n",
       "    </tr>\n",
       "    <tr>\n",
       "      <th>4</th>\n",
       "      <td>5</td>\n",
       "      <td>Крылья Советов</td>\n",
       "      <td>30</td>\n",
       "      <td>14</td>\n",
       "      <td>8</td>\n",
       "      <td>8</td>\n",
       "      <td>38</td>\n",
       "      <td>22</td>\n",
       "      <td>16</td>\n",
       "      <td>50</td>\n",
       "    </tr>\n",
       "  </tbody>\n",
       "</table>\n",
       "</div>"
      ],
      "text/plain": [
       "   Место            Клуб  Матчи  Победы  Ничьи  Поражения  Забито  Пропущено  \\\n",
       "0      1         Спартак     30      16     10          4      51         30   \n",
       "1      2       Локомотив     30      16      9          5      53         22   \n",
       "2      3           Зенит     30      15      9          6      50         34   \n",
       "3      4         Торпедо     30      15      7          8      51         40   \n",
       "4      5  Крылья Советов     30      14      8          8      38         22   \n",
       "\n",
       "   Разница  Очки  \n",
       "0       21    58  \n",
       "1       31    57  \n",
       "2       16    54  \n",
       "3       11    52  \n",
       "4       16    50  "
      ]
     },
     "execution_count": 2,
     "metadata": {},
     "output_type": "execute_result"
    }
   ],
   "source": [
    "table = pd.read_excel('RPL.xlsx', 'Лист1')\n",
    "table.head()"
   ]
  },
  {
   "cell_type": "markdown",
   "metadata": {},
   "source": [
    "# Тест Зарембки"
   ]
  },
  {
   "cell_type": "code",
   "execution_count": 3,
   "metadata": {},
   "outputs": [],
   "source": [
    "table['Очки1'] = table['Очки']/(np.exp(sum(np.log(table['Очки']))/len(table['Очки'])))"
   ]
  },
  {
   "cell_type": "code",
   "execution_count": 4,
   "metadata": {
    "scrolled": true
   },
   "outputs": [
    {
     "name": "stdout",
     "output_type": "stream",
     "text": [
      "0.6127394449379584 [ 0.02234613 -0.01030976]\n",
      "-0.29505590733963316 [ 0.02074965 -0.01274928]\n"
     ]
    }
   ],
   "source": [
    "x = table[['Забито', 'Пропущено']].values\n",
    "y1 = table.loc[:,'Очки1'].values\n",
    "y2 = np.log(table.loc[:,'Очки1'].values)\n",
    "model1 = slmodel.LinearRegression()\n",
    "model1.fit(x, y1)\n",
    "print(model1.intercept_, model1.coef_)\n",
    "model2 = slmodel.LinearRegression()\n",
    "model2.fit(x, y2)\n",
    "print(model2.intercept_, model2.coef_)"
   ]
  },
  {
   "cell_type": "code",
   "execution_count": 5,
   "metadata": {},
   "outputs": [
    {
     "name": "stdout",
     "output_type": "stream",
     "text": [
      "4.647323987916629 344.23989247070494\n"
     ]
    }
   ],
   "source": [
    "RSS1 = np.sum((table['Очки1']- model1.coef_[0]*table['Забито']\\\n",
    "               - model1.coef_[1]*table['Пропущено'] - model1.intercept_)**2)\n",
    "RSS2 = np.sum((table['Очки1']- model2.coef_[0]*table['Забито']\\\n",
    "               - model2.coef_[1]*table['Пропущено'] - model2.intercept_)**2)\n",
    "print(RSS1, RSS2)"
   ]
  },
  {
   "cell_type": "code",
   "execution_count": 6,
   "metadata": {},
   "outputs": [
    {
     "name": "stdout",
     "output_type": "stream",
     "text": [
      "654.3671757207645\n"
     ]
    }
   ],
   "source": [
    "chi2 = len(table['Очки'])/2 * abs(np.log(RSS1/RSS2))\n",
    "print(chi2)"
   ]
  },
  {
   "cell_type": "code",
   "execution_count": 7,
   "metadata": {},
   "outputs": [
    {
     "data": {
      "text/plain": [
       "0.2527228661416779"
      ]
     },
     "execution_count": 7,
     "metadata": {},
     "output_type": "execute_result"
    }
   ],
   "source": [
    "table['Очки1'].min()"
   ]
  },
  {
   "cell_type": "markdown",
   "metadata": {},
   "source": [
    "# Бокс-Кокс"
   ]
  },
  {
   "cell_type": "code",
   "execution_count": 8,
   "metadata": {},
   "outputs": [
    {
     "name": "stdout",
     "output_type": "stream",
     "text": [
      "0.14\n"
     ]
    }
   ],
   "source": [
    "step = 0.01\n",
    "i = 0\n",
    "eps = 10**(-12)\n",
    "result = np.zeros(100)\n",
    "table['Забито1'] = table['Забито'] + 2\n",
    "table['Пропущено1'] = table['Пропущено'] + 2\n",
    "table['Очки2'] = table['Очки1'] + 2\n",
    "while i <= 1:\n",
    "    table['Очки3'] = stats.boxcox(table['Очки2'], lmbda= i)\n",
    "    table['Забито3'] = stats.boxcox(table['Забито1'], lmbda= i)\n",
    "    table['Пропущено3'] = stats.boxcox(table['Пропущено1'], lmbda= i)\n",
    "    x = table[['Забито3', 'Пропущено3']].values\n",
    "    y3 = table['Очки3']\n",
    "    model3 = slmodel.LinearRegression()\n",
    "    model3.fit(x, y3)\n",
    "    result[int(i/step)] = np.sum((table['Очки3']- model3.coef_[0]*table['Забито3']\\\n",
    "               - model3.coef_[1]*table['Пропущено3'] - model3.intercept_)**2)\n",
    "    i = i + step\n",
    "print(np.argmin(result)*step)\n",
    "    "
   ]
  }
 ],
 "metadata": {
  "kernelspec": {
   "display_name": "Python 3",
   "language": "python",
   "name": "python3"
  },
  "language_info": {
   "codemirror_mode": {
    "name": "ipython",
    "version": 3
   },
   "file_extension": ".py",
   "mimetype": "text/x-python",
   "name": "python",
   "nbconvert_exporter": "python",
   "pygments_lexer": "ipython3",
   "version": "3.7.3"
  }
 },
 "nbformat": 4,
 "nbformat_minor": 4
}
