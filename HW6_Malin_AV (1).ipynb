{
  "nbformat": 4,
  "nbformat_minor": 0,
  "metadata": {
    "colab": {
      "name": "HW6_Malin_AV.ipynb",
      "provenance": []
    },
    "kernelspec": {
      "name": "python3",
      "display_name": "Python 3"
    }
  },
  "cells": [
    {
      "cell_type": "code",
      "metadata": {
        "id": "zp1SZRfmKyMT"
      },
      "source": [
        "import numpy as np\n",
        "import pandas as pd\n",
        "import sklearn.linear_model as slmodel\n",
        "import matplotlib.pyplot as plt\n",
        "import statsmodels.api as sm\n",
        "from scipy.stats import f\n",
        "from scipy import stats"
      ],
      "execution_count": 4,
      "outputs": []
    },
    {
      "cell_type": "code",
      "metadata": {
        "colab": {
          "base_uri": "https://localhost:8080/",
          "height": 195
        },
        "id": "qenxp0VfLL6r",
        "outputId": "651b6ea3-77bd-4fb1-8459-8ce9834de81d"
      },
      "source": [
        "table = pd.read_excel('RPL.xlsx', 'Лист1')\n",
        "table.head()"
      ],
      "execution_count": 5,
      "outputs": [
        {
          "output_type": "execute_result",
          "data": {
            "text/html": [
              "<div>\n",
              "<style scoped>\n",
              "    .dataframe tbody tr th:only-of-type {\n",
              "        vertical-align: middle;\n",
              "    }\n",
              "\n",
              "    .dataframe tbody tr th {\n",
              "        vertical-align: top;\n",
              "    }\n",
              "\n",
              "    .dataframe thead th {\n",
              "        text-align: right;\n",
              "    }\n",
              "</style>\n",
              "<table border=\"1\" class=\"dataframe\">\n",
              "  <thead>\n",
              "    <tr style=\"text-align: right;\">\n",
              "      <th></th>\n",
              "      <th>Место</th>\n",
              "      <th>Клуб</th>\n",
              "      <th>Матчи</th>\n",
              "      <th>Победы</th>\n",
              "      <th>Ничьи</th>\n",
              "      <th>Поражения</th>\n",
              "      <th>Забито</th>\n",
              "      <th>Пропущено</th>\n",
              "      <th>Разница</th>\n",
              "      <th>Очки</th>\n",
              "    </tr>\n",
              "  </thead>\n",
              "  <tbody>\n",
              "    <tr>\n",
              "      <th>0</th>\n",
              "      <td>1</td>\n",
              "      <td>Спартак</td>\n",
              "      <td>30</td>\n",
              "      <td>16</td>\n",
              "      <td>10</td>\n",
              "      <td>4</td>\n",
              "      <td>51</td>\n",
              "      <td>30</td>\n",
              "      <td>21</td>\n",
              "      <td>58</td>\n",
              "    </tr>\n",
              "    <tr>\n",
              "      <th>1</th>\n",
              "      <td>2</td>\n",
              "      <td>Локомотив</td>\n",
              "      <td>30</td>\n",
              "      <td>16</td>\n",
              "      <td>9</td>\n",
              "      <td>5</td>\n",
              "      <td>53</td>\n",
              "      <td>22</td>\n",
              "      <td>31</td>\n",
              "      <td>57</td>\n",
              "    </tr>\n",
              "    <tr>\n",
              "      <th>2</th>\n",
              "      <td>3</td>\n",
              "      <td>Зенит</td>\n",
              "      <td>30</td>\n",
              "      <td>15</td>\n",
              "      <td>9</td>\n",
              "      <td>6</td>\n",
              "      <td>50</td>\n",
              "      <td>34</td>\n",
              "      <td>16</td>\n",
              "      <td>54</td>\n",
              "    </tr>\n",
              "    <tr>\n",
              "      <th>3</th>\n",
              "      <td>4</td>\n",
              "      <td>Торпедо</td>\n",
              "      <td>30</td>\n",
              "      <td>15</td>\n",
              "      <td>7</td>\n",
              "      <td>8</td>\n",
              "      <td>51</td>\n",
              "      <td>40</td>\n",
              "      <td>11</td>\n",
              "      <td>52</td>\n",
              "    </tr>\n",
              "    <tr>\n",
              "      <th>4</th>\n",
              "      <td>5</td>\n",
              "      <td>Крылья Советов</td>\n",
              "      <td>30</td>\n",
              "      <td>14</td>\n",
              "      <td>8</td>\n",
              "      <td>8</td>\n",
              "      <td>38</td>\n",
              "      <td>22</td>\n",
              "      <td>16</td>\n",
              "      <td>50</td>\n",
              "    </tr>\n",
              "  </tbody>\n",
              "</table>\n",
              "</div>"
            ],
            "text/plain": [
              "   Место            Клуб  Матчи  Победы  ...  Забито  Пропущено  Разница  Очки\n",
              "0      1         Спартак     30      16  ...      51         30       21    58\n",
              "1      2       Локомотив     30      16  ...      53         22       31    57\n",
              "2      3           Зенит     30      15  ...      50         34       16    54\n",
              "3      4         Торпедо     30      15  ...      51         40       11    52\n",
              "4      5  Крылья Советов     30      14  ...      38         22       16    50\n",
              "\n",
              "[5 rows x 10 columns]"
            ]
          },
          "metadata": {
            "tags": []
          },
          "execution_count": 5
        }
      ]
    },
    {
      "cell_type": "code",
      "metadata": {
        "id": "mKFeWWAoLfny"
      },
      "source": [
        "x = table[['Забито', 'Пропущено']].values\n",
        "y = table.loc[:,'Очки'].values"
      ],
      "execution_count": 6,
      "outputs": []
    },
    {
      "cell_type": "code",
      "metadata": {
        "colab": {
          "base_uri": "https://localhost:8080/"
        },
        "id": "FkhGu3mkMGVj",
        "outputId": "e756f14f-fa06-4142-e8ce-698e83f0b0af"
      },
      "source": [
        "model = slmodel.LinearRegression()\n",
        "model.fit(x, y)\n",
        "model.intercept_, model.coef_"
      ],
      "execution_count": 7,
      "outputs": [
        {
          "output_type": "execute_result",
          "data": {
            "text/plain": [
              "(24.24550869862535, array([ 0.88421478, -0.40794739]))"
            ]
          },
          "metadata": {
            "tags": []
          },
          "execution_count": 7
        }
      ]
    },
    {
      "cell_type": "code",
      "metadata": {
        "id": "lq0qgOeyMHun"
      },
      "source": [
        "table['Ошибки'] = y - model.coef_[0]*table['Забито'] - model.coef_[1]*table['Пропущено'] - model.intercept_"
      ],
      "execution_count": 10,
      "outputs": []
    },
    {
      "cell_type": "code",
      "metadata": {
        "colab": {
          "base_uri": "https://localhost:8080/",
          "height": 455
        },
        "id": "oyeKCdThMH0S",
        "outputId": "5a12be66-afa9-4fe1-ded3-86f9f04af510"
      },
      "source": [
        "table['Забито2'] = table['Забито']**2\n",
        "table['Пропущено2'] = table['Пропущено']**2\n",
        "table['ЗабитоПропущено'] = table['Пропущено']*table['Забито']\n",
        "table['Ошибки2'] = table['Ошибки']**2\n",
        "table"
      ],
      "execution_count": 14,
      "outputs": [
        {
          "output_type": "execute_result",
          "data": {
            "text/html": [
              "<div>\n",
              "<style scoped>\n",
              "    .dataframe tbody tr th:only-of-type {\n",
              "        vertical-align: middle;\n",
              "    }\n",
              "\n",
              "    .dataframe tbody tr th {\n",
              "        vertical-align: top;\n",
              "    }\n",
              "\n",
              "    .dataframe thead th {\n",
              "        text-align: right;\n",
              "    }\n",
              "</style>\n",
              "<table border=\"1\" class=\"dataframe\">\n",
              "  <thead>\n",
              "    <tr style=\"text-align: right;\">\n",
              "      <th></th>\n",
              "      <th>Место</th>\n",
              "      <th>Клуб</th>\n",
              "      <th>Матчи</th>\n",
              "      <th>Победы</th>\n",
              "      <th>Ничьи</th>\n",
              "      <th>Поражения</th>\n",
              "      <th>Забито</th>\n",
              "      <th>Пропущено</th>\n",
              "      <th>Разница</th>\n",
              "      <th>Очки</th>\n",
              "      <th>Ошибки</th>\n",
              "      <th>Забито2</th>\n",
              "      <th>Пропущено2</th>\n",
              "      <th>ЗабитоПропущено</th>\n",
              "      <th>Ошибки2</th>\n",
              "    </tr>\n",
              "  </thead>\n",
              "  <tbody>\n",
              "    <tr>\n",
              "      <th>0</th>\n",
              "      <td>1</td>\n",
              "      <td>Спартак</td>\n",
              "      <td>30</td>\n",
              "      <td>16</td>\n",
              "      <td>10</td>\n",
              "      <td>4</td>\n",
              "      <td>51</td>\n",
              "      <td>30</td>\n",
              "      <td>21</td>\n",
              "      <td>58</td>\n",
              "      <td>0.897959</td>\n",
              "      <td>2601</td>\n",
              "      <td>900</td>\n",
              "      <td>1530</td>\n",
              "      <td>0.806331</td>\n",
              "    </tr>\n",
              "    <tr>\n",
              "      <th>1</th>\n",
              "      <td>2</td>\n",
              "      <td>Локомотив</td>\n",
              "      <td>30</td>\n",
              "      <td>16</td>\n",
              "      <td>9</td>\n",
              "      <td>5</td>\n",
              "      <td>53</td>\n",
              "      <td>22</td>\n",
              "      <td>31</td>\n",
              "      <td>57</td>\n",
              "      <td>-5.134049</td>\n",
              "      <td>2809</td>\n",
              "      <td>484</td>\n",
              "      <td>1166</td>\n",
              "      <td>26.358463</td>\n",
              "    </tr>\n",
              "    <tr>\n",
              "      <th>2</th>\n",
              "      <td>3</td>\n",
              "      <td>Зенит</td>\n",
              "      <td>30</td>\n",
              "      <td>15</td>\n",
              "      <td>9</td>\n",
              "      <td>6</td>\n",
              "      <td>50</td>\n",
              "      <td>34</td>\n",
              "      <td>16</td>\n",
              "      <td>54</td>\n",
              "      <td>-0.586036</td>\n",
              "      <td>2500</td>\n",
              "      <td>1156</td>\n",
              "      <td>1700</td>\n",
              "      <td>0.343439</td>\n",
              "    </tr>\n",
              "    <tr>\n",
              "      <th>3</th>\n",
              "      <td>4</td>\n",
              "      <td>Торпедо</td>\n",
              "      <td>30</td>\n",
              "      <td>15</td>\n",
              "      <td>7</td>\n",
              "      <td>8</td>\n",
              "      <td>51</td>\n",
              "      <td>40</td>\n",
              "      <td>11</td>\n",
              "      <td>52</td>\n",
              "      <td>-1.022567</td>\n",
              "      <td>2601</td>\n",
              "      <td>1600</td>\n",
              "      <td>2040</td>\n",
              "      <td>1.045643</td>\n",
              "    </tr>\n",
              "    <tr>\n",
              "      <th>4</th>\n",
              "      <td>5</td>\n",
              "      <td>Крылья Советов</td>\n",
              "      <td>30</td>\n",
              "      <td>14</td>\n",
              "      <td>8</td>\n",
              "      <td>8</td>\n",
              "      <td>38</td>\n",
              "      <td>22</td>\n",
              "      <td>16</td>\n",
              "      <td>50</td>\n",
              "      <td>1.129172</td>\n",
              "      <td>1444</td>\n",
              "      <td>484</td>\n",
              "      <td>836</td>\n",
              "      <td>1.275030</td>\n",
              "    </tr>\n",
              "    <tr>\n",
              "      <th>...</th>\n",
              "      <td>...</td>\n",
              "      <td>...</td>\n",
              "      <td>...</td>\n",
              "      <td>...</td>\n",
              "      <td>...</td>\n",
              "      <td>...</td>\n",
              "      <td>...</td>\n",
              "      <td>...</td>\n",
              "      <td>...</td>\n",
              "      <td>...</td>\n",
              "      <td>...</td>\n",
              "      <td>...</td>\n",
              "      <td>...</td>\n",
              "      <td>...</td>\n",
              "      <td>...</td>\n",
              "    </tr>\n",
              "    <tr>\n",
              "      <th>299</th>\n",
              "      <td>12</td>\n",
              "      <td>Сочи</td>\n",
              "      <td>30</td>\n",
              "      <td>8</td>\n",
              "      <td>9</td>\n",
              "      <td>13</td>\n",
              "      <td>40</td>\n",
              "      <td>39</td>\n",
              "      <td>1</td>\n",
              "      <td>33</td>\n",
              "      <td>-10.704152</td>\n",
              "      <td>1600</td>\n",
              "      <td>1521</td>\n",
              "      <td>1560</td>\n",
              "      <td>114.578861</td>\n",
              "    </tr>\n",
              "    <tr>\n",
              "      <th>300</th>\n",
              "      <td>13</td>\n",
              "      <td>Крылья Советов</td>\n",
              "      <td>30</td>\n",
              "      <td>8</td>\n",
              "      <td>7</td>\n",
              "      <td>15</td>\n",
              "      <td>33</td>\n",
              "      <td>40</td>\n",
              "      <td>-7</td>\n",
              "      <td>31</td>\n",
              "      <td>-6.106701</td>\n",
              "      <td>1089</td>\n",
              "      <td>1600</td>\n",
              "      <td>1320</td>\n",
              "      <td>37.291794</td>\n",
              "    </tr>\n",
              "    <tr>\n",
              "      <th>301</th>\n",
              "      <td>14</td>\n",
              "      <td>Тамбов</td>\n",
              "      <td>30</td>\n",
              "      <td>9</td>\n",
              "      <td>4</td>\n",
              "      <td>17</td>\n",
              "      <td>37</td>\n",
              "      <td>41</td>\n",
              "      <td>-4</td>\n",
              "      <td>31</td>\n",
              "      <td>-9.235612</td>\n",
              "      <td>1369</td>\n",
              "      <td>1681</td>\n",
              "      <td>1517</td>\n",
              "      <td>85.296537</td>\n",
              "    </tr>\n",
              "    <tr>\n",
              "      <th>302</th>\n",
              "      <td>15</td>\n",
              "      <td>Ахмат</td>\n",
              "      <td>30</td>\n",
              "      <td>7</td>\n",
              "      <td>10</td>\n",
              "      <td>13</td>\n",
              "      <td>27</td>\n",
              "      <td>46</td>\n",
              "      <td>-19</td>\n",
              "      <td>31</td>\n",
              "      <td>1.646272</td>\n",
              "      <td>729</td>\n",
              "      <td>2116</td>\n",
              "      <td>1242</td>\n",
              "      <td>2.710213</td>\n",
              "    </tr>\n",
              "    <tr>\n",
              "      <th>303</th>\n",
              "      <td>16</td>\n",
              "      <td>Оренбург</td>\n",
              "      <td>30</td>\n",
              "      <td>7</td>\n",
              "      <td>6</td>\n",
              "      <td>17</td>\n",
              "      <td>28</td>\n",
              "      <td>52</td>\n",
              "      <td>-24</td>\n",
              "      <td>27</td>\n",
              "      <td>-0.790258</td>\n",
              "      <td>784</td>\n",
              "      <td>2704</td>\n",
              "      <td>1456</td>\n",
              "      <td>0.624508</td>\n",
              "    </tr>\n",
              "  </tbody>\n",
              "</table>\n",
              "<p>304 rows × 15 columns</p>\n",
              "</div>"
            ],
            "text/plain": [
              "     Место            Клуб  Матчи  ...  Пропущено2  ЗабитоПропущено     Ошибки2\n",
              "0        1         Спартак     30  ...         900             1530    0.806331\n",
              "1        2       Локомотив     30  ...         484             1166   26.358463\n",
              "2        3           Зенит     30  ...        1156             1700    0.343439\n",
              "3        4         Торпедо     30  ...        1600             2040    1.045643\n",
              "4        5  Крылья Советов     30  ...         484              836    1.275030\n",
              "..     ...             ...    ...  ...         ...              ...         ...\n",
              "299     12            Сочи     30  ...        1521             1560  114.578861\n",
              "300     13  Крылья Советов     30  ...        1600             1320   37.291794\n",
              "301     14          Тамбов     30  ...        1681             1517   85.296537\n",
              "302     15           Ахмат     30  ...        2116             1242    2.710213\n",
              "303     16        Оренбург     30  ...        2704             1456    0.624508\n",
              "\n",
              "[304 rows x 15 columns]"
            ]
          },
          "metadata": {
            "tags": []
          },
          "execution_count": 14
        }
      ]
    },
    {
      "cell_type": "code",
      "metadata": {
        "colab": {
          "base_uri": "https://localhost:8080/"
        },
        "id": "T0KU1FtCMH3i",
        "outputId": "2d163566-4a3e-49ae-d187-524fdd57b491"
      },
      "source": [
        "x_error = table[['Забито', 'Пропущено', 'Забито2', 'Пропущено2', 'ЗабитоПропущено']]\n",
        "y_error = table.loc[:,'Ошибки2']\n",
        "model_error = slmodel.LinearRegression()\n",
        "model_error.fit(x_error, y_error)\n",
        "model_error.intercept_, model_error.coef_, model_error.score(x_error, y_error)"
      ],
      "execution_count": 21,
      "outputs": [
        {
          "output_type": "execute_result",
          "data": {
            "text/plain": [
              "(192.32720720948595,\n",
              " array([-2.34351841e+00, -8.63144402e+00,  3.60522554e-03,  8.71583836e-02,\n",
              "         7.84125863e-02]),\n",
              " 0.1785477029227749)"
            ]
          },
          "metadata": {
            "tags": []
          },
          "execution_count": 21
        }
      ]
    },
    {
      "cell_type": "code",
      "metadata": {
        "colab": {
          "base_uri": "https://localhost:8080/"
        },
        "id": "azNVDzw6MH6o",
        "outputId": "d991edf8-6f1b-4363-87a3-293a57ca9353"
      },
      "source": [
        "t_white = 304*model_error.score(x_error, y_error)\n",
        "t_white"
      ],
      "execution_count": 22,
      "outputs": [
        {
          "output_type": "execute_result",
          "data": {
            "text/plain": [
              "54.27850168852356"
            ]
          },
          "metadata": {
            "tags": []
          },
          "execution_count": 22
        }
      ]
    },
    {
      "cell_type": "markdown",
      "metadata": {
        "id": "UoMT7JIDP8a5"
      },
      "source": [
        ""
      ]
    },
    {
      "cell_type": "markdown",
      "metadata": {
        "id": "y4e2cACUOg_z"
      },
      "source": [
        "У нас критическое значение хи квдрат есть  χ2(2,0.025)=7,378 < t_white, тем самым отвергаем гипотезу о гомоскедатичности\n"
      ]
    }
  ]
}