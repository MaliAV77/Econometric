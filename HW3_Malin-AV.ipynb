{
 "cells": [
  {
   "cell_type": "markdown",
   "metadata": {},
   "source": [
    "# Домашнее задание 1"
   ]
  },
  {
   "cell_type": "code",
   "execution_count": 30,
   "metadata": {},
   "outputs": [],
   "source": [
    "import numpy as np\n",
    "import pandas as pd\n",
    "import sklearn.linear_model as slmodel\n",
    "import matplotlib.pyplot as plt\n",
    "import statsmodels.api as sm\n",
    "from scipy.stats import f"
   ]
  },
  {
   "cell_type": "code",
   "execution_count": 3,
   "metadata": {
    "scrolled": false
   },
   "outputs": [
    {
     "data": {
      "text/html": [
       "<div>\n",
       "<style scoped>\n",
       "    .dataframe tbody tr th:only-of-type {\n",
       "        vertical-align: middle;\n",
       "    }\n",
       "\n",
       "    .dataframe tbody tr th {\n",
       "        vertical-align: top;\n",
       "    }\n",
       "\n",
       "    .dataframe thead th {\n",
       "        text-align: right;\n",
       "    }\n",
       "</style>\n",
       "<table border=\"1\" class=\"dataframe\">\n",
       "  <thead>\n",
       "    <tr style=\"text-align: right;\">\n",
       "      <th></th>\n",
       "      <th>Место</th>\n",
       "      <th>Клуб</th>\n",
       "      <th>Матчи</th>\n",
       "      <th>Победы</th>\n",
       "      <th>Ничьи</th>\n",
       "      <th>Поражения</th>\n",
       "      <th>Забито</th>\n",
       "      <th>Пропущено</th>\n",
       "      <th>Разница</th>\n",
       "      <th>Очки</th>\n",
       "    </tr>\n",
       "  </thead>\n",
       "  <tbody>\n",
       "    <tr>\n",
       "      <th>0</th>\n",
       "      <td>1</td>\n",
       "      <td>Спартак</td>\n",
       "      <td>30</td>\n",
       "      <td>16</td>\n",
       "      <td>10</td>\n",
       "      <td>4</td>\n",
       "      <td>51</td>\n",
       "      <td>30</td>\n",
       "      <td>21</td>\n",
       "      <td>58</td>\n",
       "    </tr>\n",
       "    <tr>\n",
       "      <th>1</th>\n",
       "      <td>2</td>\n",
       "      <td>Локомотив</td>\n",
       "      <td>30</td>\n",
       "      <td>16</td>\n",
       "      <td>9</td>\n",
       "      <td>5</td>\n",
       "      <td>53</td>\n",
       "      <td>22</td>\n",
       "      <td>31</td>\n",
       "      <td>57</td>\n",
       "    </tr>\n",
       "    <tr>\n",
       "      <th>2</th>\n",
       "      <td>3</td>\n",
       "      <td>Зенит</td>\n",
       "      <td>30</td>\n",
       "      <td>15</td>\n",
       "      <td>9</td>\n",
       "      <td>6</td>\n",
       "      <td>50</td>\n",
       "      <td>34</td>\n",
       "      <td>16</td>\n",
       "      <td>54</td>\n",
       "    </tr>\n",
       "    <tr>\n",
       "      <th>3</th>\n",
       "      <td>4</td>\n",
       "      <td>Торпедо</td>\n",
       "      <td>30</td>\n",
       "      <td>15</td>\n",
       "      <td>7</td>\n",
       "      <td>8</td>\n",
       "      <td>51</td>\n",
       "      <td>40</td>\n",
       "      <td>11</td>\n",
       "      <td>52</td>\n",
       "    </tr>\n",
       "    <tr>\n",
       "      <th>4</th>\n",
       "      <td>5</td>\n",
       "      <td>Крылья Советов</td>\n",
       "      <td>30</td>\n",
       "      <td>14</td>\n",
       "      <td>8</td>\n",
       "      <td>8</td>\n",
       "      <td>38</td>\n",
       "      <td>22</td>\n",
       "      <td>16</td>\n",
       "      <td>50</td>\n",
       "    </tr>\n",
       "  </tbody>\n",
       "</table>\n",
       "</div>"
      ],
      "text/plain": [
       "   Место            Клуб  Матчи  Победы  Ничьи  Поражения  Забито  Пропущено  \\\n",
       "0      1         Спартак     30      16     10          4      51         30   \n",
       "1      2       Локомотив     30      16      9          5      53         22   \n",
       "2      3           Зенит     30      15      9          6      50         34   \n",
       "3      4         Торпедо     30      15      7          8      51         40   \n",
       "4      5  Крылья Советов     30      14      8          8      38         22   \n",
       "\n",
       "   Разница  Очки  \n",
       "0       21    58  \n",
       "1       31    57  \n",
       "2       16    54  \n",
       "3       11    52  \n",
       "4       16    50  "
      ]
     },
     "execution_count": 3,
     "metadata": {},
     "output_type": "execute_result"
    }
   ],
   "source": [
    "table = pd.read_excel('RPL.xlsx', 'Лист1')\n",
    "table.head()"
   ]
  },
  {
   "cell_type": "code",
   "execution_count": 25,
   "metadata": {},
   "outputs": [
    {
     "data": {
      "text/html": [
       "<div>\n",
       "<style scoped>\n",
       "    .dataframe tbody tr th:only-of-type {\n",
       "        vertical-align: middle;\n",
       "    }\n",
       "\n",
       "    .dataframe tbody tr th {\n",
       "        vertical-align: top;\n",
       "    }\n",
       "\n",
       "    .dataframe thead th {\n",
       "        text-align: right;\n",
       "    }\n",
       "</style>\n",
       "<table border=\"1\" class=\"dataframe\">\n",
       "  <thead>\n",
       "    <tr style=\"text-align: right;\">\n",
       "      <th></th>\n",
       "      <th>Место</th>\n",
       "      <th>Клуб</th>\n",
       "      <th>Матчи</th>\n",
       "      <th>Победы</th>\n",
       "      <th>Ничьи</th>\n",
       "      <th>Поражения</th>\n",
       "      <th>Забито</th>\n",
       "      <th>Пропущено</th>\n",
       "      <th>Разница</th>\n",
       "      <th>Очки</th>\n",
       "    </tr>\n",
       "  </thead>\n",
       "  <tbody>\n",
       "    <tr>\n",
       "      <th>0</th>\n",
       "      <td>1</td>\n",
       "      <td>Спартак</td>\n",
       "      <td>30</td>\n",
       "      <td>16</td>\n",
       "      <td>10</td>\n",
       "      <td>4</td>\n",
       "      <td>51</td>\n",
       "      <td>30</td>\n",
       "      <td>21</td>\n",
       "      <td>58</td>\n",
       "    </tr>\n",
       "    <tr>\n",
       "      <th>1</th>\n",
       "      <td>2</td>\n",
       "      <td>Локомотив</td>\n",
       "      <td>30</td>\n",
       "      <td>16</td>\n",
       "      <td>9</td>\n",
       "      <td>5</td>\n",
       "      <td>53</td>\n",
       "      <td>22</td>\n",
       "      <td>31</td>\n",
       "      <td>57</td>\n",
       "    </tr>\n",
       "    <tr>\n",
       "      <th>2</th>\n",
       "      <td>3</td>\n",
       "      <td>Зенит</td>\n",
       "      <td>30</td>\n",
       "      <td>15</td>\n",
       "      <td>9</td>\n",
       "      <td>6</td>\n",
       "      <td>50</td>\n",
       "      <td>34</td>\n",
       "      <td>16</td>\n",
       "      <td>54</td>\n",
       "    </tr>\n",
       "    <tr>\n",
       "      <th>3</th>\n",
       "      <td>4</td>\n",
       "      <td>Торпедо</td>\n",
       "      <td>30</td>\n",
       "      <td>15</td>\n",
       "      <td>7</td>\n",
       "      <td>8</td>\n",
       "      <td>51</td>\n",
       "      <td>40</td>\n",
       "      <td>11</td>\n",
       "      <td>52</td>\n",
       "    </tr>\n",
       "    <tr>\n",
       "      <th>4</th>\n",
       "      <td>5</td>\n",
       "      <td>Крылья Советов</td>\n",
       "      <td>30</td>\n",
       "      <td>14</td>\n",
       "      <td>8</td>\n",
       "      <td>8</td>\n",
       "      <td>38</td>\n",
       "      <td>22</td>\n",
       "      <td>16</td>\n",
       "      <td>50</td>\n",
       "    </tr>\n",
       "    <tr>\n",
       "      <th>...</th>\n",
       "      <td>...</td>\n",
       "      <td>...</td>\n",
       "      <td>...</td>\n",
       "      <td>...</td>\n",
       "      <td>...</td>\n",
       "      <td>...</td>\n",
       "      <td>...</td>\n",
       "      <td>...</td>\n",
       "      <td>...</td>\n",
       "      <td>...</td>\n",
       "    </tr>\n",
       "    <tr>\n",
       "      <th>299</th>\n",
       "      <td>12</td>\n",
       "      <td>Сочи</td>\n",
       "      <td>30</td>\n",
       "      <td>8</td>\n",
       "      <td>9</td>\n",
       "      <td>13</td>\n",
       "      <td>40</td>\n",
       "      <td>39</td>\n",
       "      <td>1</td>\n",
       "      <td>33</td>\n",
       "    </tr>\n",
       "    <tr>\n",
       "      <th>300</th>\n",
       "      <td>13</td>\n",
       "      <td>Крылья Советов</td>\n",
       "      <td>30</td>\n",
       "      <td>8</td>\n",
       "      <td>7</td>\n",
       "      <td>15</td>\n",
       "      <td>33</td>\n",
       "      <td>40</td>\n",
       "      <td>-7</td>\n",
       "      <td>31</td>\n",
       "    </tr>\n",
       "    <tr>\n",
       "      <th>301</th>\n",
       "      <td>14</td>\n",
       "      <td>Тамбов</td>\n",
       "      <td>30</td>\n",
       "      <td>9</td>\n",
       "      <td>4</td>\n",
       "      <td>17</td>\n",
       "      <td>37</td>\n",
       "      <td>41</td>\n",
       "      <td>-4</td>\n",
       "      <td>31</td>\n",
       "    </tr>\n",
       "    <tr>\n",
       "      <th>302</th>\n",
       "      <td>15</td>\n",
       "      <td>Ахмат</td>\n",
       "      <td>30</td>\n",
       "      <td>7</td>\n",
       "      <td>10</td>\n",
       "      <td>13</td>\n",
       "      <td>27</td>\n",
       "      <td>46</td>\n",
       "      <td>-19</td>\n",
       "      <td>31</td>\n",
       "    </tr>\n",
       "    <tr>\n",
       "      <th>303</th>\n",
       "      <td>16</td>\n",
       "      <td>Оренбург</td>\n",
       "      <td>30</td>\n",
       "      <td>7</td>\n",
       "      <td>6</td>\n",
       "      <td>17</td>\n",
       "      <td>28</td>\n",
       "      <td>52</td>\n",
       "      <td>-24</td>\n",
       "      <td>27</td>\n",
       "    </tr>\n",
       "  </tbody>\n",
       "</table>\n",
       "<p>304 rows × 10 columns</p>\n",
       "</div>"
      ],
      "text/plain": [
       "     Место            Клуб  Матчи  Победы  Ничьи  Поражения  Забито  \\\n",
       "0        1         Спартак     30      16     10          4      51   \n",
       "1        2       Локомотив     30      16      9          5      53   \n",
       "2        3           Зенит     30      15      9          6      50   \n",
       "3        4         Торпедо     30      15      7          8      51   \n",
       "4        5  Крылья Советов     30      14      8          8      38   \n",
       "..     ...             ...    ...     ...    ...        ...     ...   \n",
       "299     12            Сочи     30       8      9         13      40   \n",
       "300     13  Крылья Советов     30       8      7         15      33   \n",
       "301     14          Тамбов     30       9      4         17      37   \n",
       "302     15           Ахмат     30       7     10         13      27   \n",
       "303     16        Оренбург     30       7      6         17      28   \n",
       "\n",
       "     Пропущено  Разница  Очки  \n",
       "0           30       21    58  \n",
       "1           22       31    57  \n",
       "2           34       16    54  \n",
       "3           40       11    52  \n",
       "4           22       16    50  \n",
       "..         ...      ...   ...  \n",
       "299         39        1    33  \n",
       "300         40       -7    31  \n",
       "301         41       -4    31  \n",
       "302         46      -19    31  \n",
       "303         52      -24    27  \n",
       "\n",
       "[304 rows x 10 columns]"
      ]
     },
     "execution_count": 25,
     "metadata": {},
     "output_type": "execute_result"
    }
   ],
   "source": [
    "table"
   ]
  },
  {
   "cell_type": "markdown",
   "metadata": {},
   "source": [
    "# Зависимость от забитых и пропущенных"
   ]
  },
  {
   "cell_type": "code",
   "execution_count": 18,
   "metadata": {},
   "outputs": [],
   "source": [
    "x = table[['Забито', 'Пропущено']].values\n",
    "y = table.loc[:,'Очки'].values"
   ]
  },
  {
   "cell_type": "code",
   "execution_count": 22,
   "metadata": {
    "scrolled": true
   },
   "outputs": [
    {
     "data": {
      "text/plain": [
       "(24.24550869862535, array([ 0.88421478, -0.40794739]))"
      ]
     },
     "execution_count": 22,
     "metadata": {},
     "output_type": "execute_result"
    }
   ],
   "source": [
    "model = slmodel.LinearRegression()\n",
    "model.fit(x, y)\n",
    "model.intercept_, model.coef_"
   ]
  },
  {
   "cell_type": "markdown",
   "metadata": {},
   "source": [
    "# Проверка гипотезы о незначимости регрессии в целом"
   ]
  },
  {
   "cell_type": "markdown",
   "metadata": {},
   "source": [
    "Нам нужно проверить гипотезу о том, что коэффициенты перед переменными одновременно равны нулю на уровне значимости 5%. Для этого найден коэффициент детерминации. Альтернатива - хотя бы один из коэффициентов не равен нулю"
   ]
  },
  {
   "cell_type": "code",
   "execution_count": 51,
   "metadata": {},
   "outputs": [
    {
     "data": {
      "text/plain": [
       "0.8653846453791171"
      ]
     },
     "execution_count": 51,
     "metadata": {},
     "output_type": "execute_result"
    }
   ],
   "source": [
    "alpha = 0.05\n",
    "n = 304\n",
    "k = 3\n",
    "R2 = model.score(x, y)\n",
    "R2"
   ]
  },
  {
   "cell_type": "markdown",
   "metadata": {},
   "source": [
    "Проведем F-статистику для модели. Зная, что $\\frac{ESS}{TSS} = R^2$, а $\\frac{RSS}{TSS} = 1 - R^2$"
   ]
  },
  {
   "cell_type": "code",
   "execution_count": 52,
   "metadata": {},
   "outputs": [
    {
     "data": {
      "text/plain": [
       "(967.5002491086769, 3.0257464103335736)"
      ]
     },
     "execution_count": 52,
     "metadata": {},
     "output_type": "execute_result"
    }
   ],
   "source": [
    "F_model = (R2)*(n-k)/((1 - R2)*(k-1))\n",
    "F = f.ppf (1 - alpha, k-1, n-k)\n",
    "F_model, F"
   ]
  },
  {
   "cell_type": "markdown",
   "metadata": {},
   "source": [
    "Мы наблюдаем, что $F_{model} > F$, следовательно нулевая гипотеза отвергается"
   ]
  }
 ],
 "metadata": {
  "kernelspec": {
   "display_name": "Python 3",
   "language": "python",
   "name": "python3"
  },
  "language_info": {
   "codemirror_mode": {
    "name": "ipython",
    "version": 3
   },
   "file_extension": ".py",
   "mimetype": "text/x-python",
   "name": "python",
   "nbconvert_exporter": "python",
   "pygments_lexer": "ipython3",
   "version": "3.7.3"
  }
 },
 "nbformat": 4,
 "nbformat_minor": 4
}
